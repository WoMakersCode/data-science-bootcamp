{
 "cells": [
  {
   "cell_type": "markdown",
   "metadata": {
    "slideshow": {
     "slide_type": "slide"
    }
   },
   "source": [
    "# Aula 21 - Ensemble & Random Forest\n",
    "\n",
    "\n",
    "## 1. O que é um ensemble?\n",
    "\n",
    "![#trabalho em equipe funciona!](https://thumbs.gfycat.com/SlimyTepidAtlanticridleyturtle-size_restricted.gif)\n",
    "\n",
    "<p style=\"text-align: center;\"> #teamwork </p>\n",
    "\n"
   ]
  },
  {
   "cell_type": "code",
   "execution_count": null,
   "metadata": {},
   "outputs": [],
   "source": []
  },
  {
   "cell_type": "markdown",
   "metadata": {
    "slideshow": {
     "slide_type": "fragment"
    }
   },
   "source": [
    "### Vamos ver se isso é verdade mesmo!"
   ]
  },
  {
   "cell_type": "code",
   "execution_count": null,
   "metadata": {
    "slideshow": {
     "slide_type": "slide"
    }
   },
   "outputs": [],
   "source": [
    "## imports necessarios\n",
    "\n",
    "import warnings\n",
    "warnings.filterwarnings('ignore')\n",
    "\n",
    "import pandas as pd\n",
    "import numpy as np\n",
    "from sklearn.preprocessing import LabelEncoder\n",
    "from sklearn.model_selection import train_test_split\n",
    "from sklearn.linear_model import LogisticRegression\n",
    "from sklearn.neighbors import KNeighborsClassifier\n",
    "from sklearn.tree import DecisionTreeClassifier\n",
    "from sklearn.ensemble import RandomForestClassifier\n",
    "from sklearn.ensemble import VotingClassifier\n",
    "from sklearn.metrics import accuracy_score, precision_score, recall_score\n",
    "import matplotlib.pyplot as plt\n",
    "%matplotlib inline"
   ]
  },
  {
   "cell_type": "markdown",
   "metadata": {
    "slideshow": {
     "slide_type": "slide"
    }
   },
   "source": [
    "\n",
    "Criaremos um modelo para predizer pessoas que devem procurar tratamento para saúde mental em empresas de tecnologia.\n",
    "\n",
    "Vamos ler os dados e analisar o dataset:"
   ]
  },
  {
   "cell_type": "code",
   "execution_count": null,
   "metadata": {
    "slideshow": {
     "slide_type": "fragment"
    }
   },
   "outputs": [],
   "source": [
    "df = pd.read_csv('survey.csv')"
   ]
  },
  {
   "cell_type": "markdown",
   "metadata": {},
   "source": [
    "> Dataset retirado do [kaggle](https://www.kaggle.com/osmi/mental-health-in-tech-survey/kernels), porém foram filtrados apenas os países Canada, United Kingdom e United States para facilitar a análise"
   ]
  },
  {
   "cell_type": "code",
   "execution_count": null,
   "metadata": {
    "slideshow": {
     "slide_type": "fragment"
    }
   },
   "outputs": [],
   "source": [
    "df.info()"
   ]
  },
  {
   "cell_type": "code",
   "execution_count": null,
   "metadata": {
    "scrolled": true,
    "slideshow": {
     "slide_type": "slide"
    }
   },
   "outputs": [],
   "source": [
    "df.head()"
   ]
  },
  {
   "cell_type": "markdown",
   "metadata": {
    "slideshow": {
     "slide_type": "fragment"
    }
   },
   "source": [
    "Vemos várias variáveis como objetos e vários *NaN*s, vamos tratá-los.\n",
    "\n"
   ]
  },
  {
   "cell_type": "code",
   "execution_count": null,
   "metadata": {
    "slideshow": {
     "slide_type": "slide"
    }
   },
   "outputs": [],
   "source": [
    "# Timestamp:\n",
    "del df['Timestamp']"
   ]
  },
  {
   "cell_type": "markdown",
   "metadata": {
    "slideshow": {
     "slide_type": "fragment"
    }
   },
   "source": [
    "### Variáveis com NaN:\n",
    "\n"
   ]
  },
  {
   "cell_type": "code",
   "execution_count": null,
   "metadata": {
    "slideshow": {
     "slide_type": "fragment"
    }
   },
   "outputs": [],
   "source": [
    "# comments:\n",
    "df.loc[df['comments'].notnull(), 'comments'].head()"
   ]
  },
  {
   "cell_type": "markdown",
   "metadata": {
    "slideshow": {
     "slide_type": "fragment"
    }
   },
   "source": [
    "Nao aprendemos NLP... ainda"
   ]
  },
  {
   "cell_type": "code",
   "execution_count": null,
   "metadata": {
    "slideshow": {
     "slide_type": "slide"
    }
   },
   "outputs": [],
   "source": [
    "del df['comments']"
   ]
  },
  {
   "cell_type": "markdown",
   "metadata": {
    "slideshow": {
     "slide_type": "fragment"
    }
   },
   "source": [
    "work_interfere:"
   ]
  },
  {
   "cell_type": "code",
   "execution_count": null,
   "metadata": {
    "slideshow": {
     "slide_type": "fragment"
    }
   },
   "outputs": [],
   "source": [
    "df['work_interfere'].value_counts()"
   ]
  },
  {
   "cell_type": "code",
   "execution_count": null,
   "metadata": {
    "slideshow": {
     "slide_type": "fragment"
    }
   },
   "outputs": [],
   "source": [
    "df['work_interfere'].fillna('DontKnow', inplace=True)"
   ]
  },
  {
   "cell_type": "markdown",
   "metadata": {
    "slideshow": {
     "slide_type": "slide"
    }
   },
   "source": [
    "self_employed:"
   ]
  },
  {
   "cell_type": "code",
   "execution_count": null,
   "metadata": {
    "slideshow": {
     "slide_type": "fragment"
    }
   },
   "outputs": [],
   "source": [
    "df['self_employed'].value_counts()"
   ]
  },
  {
   "cell_type": "code",
   "execution_count": null,
   "metadata": {
    "scrolled": false,
    "slideshow": {
     "slide_type": "fragment"
    }
   },
   "outputs": [],
   "source": [
    "df['self_employed'].fillna('No', inplace=True)"
   ]
  },
  {
   "cell_type": "code",
   "execution_count": null,
   "metadata": {
    "slideshow": {
     "slide_type": "fragment"
    }
   },
   "outputs": [],
   "source": [
    "df['state'].value_counts()"
   ]
  },
  {
   "cell_type": "code",
   "execution_count": null,
   "metadata": {
    "slideshow": {
     "slide_type": "fragment"
    }
   },
   "outputs": [],
   "source": [
    "del df['state']"
   ]
  },
  {
   "cell_type": "markdown",
   "metadata": {
    "slideshow": {
     "slide_type": "slide"
    }
   },
   "source": [
    "### Variaveis categoricas"
   ]
  },
  {
   "cell_type": "markdown",
   "metadata": {
    "slideshow": {
     "slide_type": "fragment"
    }
   },
   "source": [
    "Gender:"
   ]
  },
  {
   "cell_type": "code",
   "execution_count": null,
   "metadata": {
    "scrolled": false,
    "slideshow": {
     "slide_type": "fragment"
    }
   },
   "outputs": [],
   "source": [
    "df['Gender'].unique()"
   ]
  },
  {
   "cell_type": "markdown",
   "metadata": {
    "slideshow": {
     "slide_type": "fragment"
    }
   },
   "source": [
    "Vemos muitas categorias aqui, vamos tratar:"
   ]
  },
  {
   "cell_type": "code",
   "execution_count": null,
   "metadata": {
    "slideshow": {
     "slide_type": "fragment"
    }
   },
   "outputs": [],
   "source": [
    "male_str = [\"male\", \"m\", \"male-ish\", \"maile\", \"mal\", \"male (cis)\", \"make\", \"male \", \"man\",\"msle\", \"mail\", \"malr\",\"cis man\", \"Cis Male\", \"cis male\"]\n",
    "trans_str = [\"trans-female\", \"something kinda male?\", \"queer/she/they\", \"non-binary\",\"nah\", \"all\", \"enby\", \"fluid\", \"genderqueer\", \"androgyne\", \"agender\", \"male leaning androgynous\", \"guy (-ish) ^_^\", \"trans woman\", \"neuter\", \"female (trans)\", \"queer\", \"ostensibly male, unsure what that really means\"]           \n",
    "female_str = [\"cis female\", \"f\", \"female\", \"woman\",  \"femake\", \"female \",\"cis-female/femme\", \"female (cis)\", \"femail\"]\n",
    "\n",
    "for (row, col) in df.iterrows():\n",
    "\n",
    "    if str.lower(col.Gender) in male_str:\n",
    "        df['Gender'].replace(to_replace=col.Gender, value='male', inplace=True)\n",
    "\n",
    "    if str.lower(col.Gender) in female_str:\n",
    "        df['Gender'].replace(to_replace=col.Gender, value='female', inplace=True)\n",
    "\n",
    "    if str.lower(col.Gender) in trans_str:\n",
    "        df['Gender'].replace(to_replace=col.Gender, value='trans', inplace=True)"
   ]
  },
  {
   "cell_type": "code",
   "execution_count": null,
   "metadata": {
    "slideshow": {
     "slide_type": "fragment"
    }
   },
   "outputs": [],
   "source": [
    "df['Gender'].value_counts()"
   ]
  },
  {
   "cell_type": "code",
   "execution_count": null,
   "metadata": {
    "slideshow": {
     "slide_type": "fragment"
    }
   },
   "outputs": [],
   "source": [
    "df = df[df['Gender']!='p']"
   ]
  },
  {
   "cell_type": "code",
   "execution_count": null,
   "metadata": {
    "slideshow": {
     "slide_type": "fragment"
    }
   },
   "outputs": [],
   "source": [
    "df['Gender'].unique()"
   ]
  },
  {
   "cell_type": "markdown",
   "metadata": {
    "slideshow": {
     "slide_type": "slide"
    }
   },
   "source": [
    "Vamos ver quantos países temos:"
   ]
  },
  {
   "cell_type": "code",
   "execution_count": null,
   "metadata": {
    "scrolled": false,
    "slideshow": {
     "slide_type": "fragment"
    }
   },
   "outputs": [],
   "source": [
    "df['Country'].value_counts().plot(kind='barh', figsize=(10,7),\n",
    "                                        color=\"coral\", fontsize=13)"
   ]
  },
  {
   "cell_type": "markdown",
   "metadata": {
    "slideshow": {
     "slide_type": "fragment"
    }
   },
   "source": [
    "Vamos criar as dummies"
   ]
  },
  {
   "cell_type": "code",
   "execution_count": null,
   "metadata": {
    "slideshow": {
     "slide_type": "fragment"
    }
   },
   "outputs": [],
   "source": [
    "df = pd.get_dummies(df, columns=['Gender', 'Country', 'self_employed', 'family_history', 'treatment', 'work_interfere',\n",
    "                 'no_employees', 'remote_work', 'tech_company', 'anonymity', 'leave', 'mental_health_consequence',\n",
    "                 'phys_health_consequence', 'coworkers', 'supervisor', 'mental_health_interview', 'phys_health_interview',\n",
    "                 'mental_vs_physical', 'obs_consequence', 'benefits', 'care_options', 'wellness_program',\n",
    "                 'seek_help'])"
   ]
  },
  {
   "cell_type": "code",
   "execution_count": null,
   "metadata": {
    "slideshow": {
     "slide_type": "slide"
    }
   },
   "outputs": [],
   "source": [
    "df.shape"
   ]
  },
  {
   "cell_type": "code",
   "execution_count": null,
   "metadata": {
    "scrolled": false,
    "slideshow": {
     "slide_type": "fragment"
    }
   },
   "outputs": [],
   "source": [
    "df.columns.values"
   ]
  },
  {
   "cell_type": "code",
   "execution_count": null,
   "metadata": {
    "slideshow": {
     "slide_type": "fragment"
    }
   },
   "outputs": [],
   "source": [
    "df.drop(columns=['family_history_No', 'treatment_No', 'remote_work_No', 'tech_company_No'], inplace=True)"
   ]
  },
  {
   "cell_type": "markdown",
   "metadata": {
    "slideshow": {
     "slide_type": "slide"
    }
   },
   "source": [
    "Vamos dar uma olhada na distribuićão da variável resposta:"
   ]
  },
  {
   "cell_type": "code",
   "execution_count": null,
   "metadata": {
    "slideshow": {
     "slide_type": "fragment"
    }
   },
   "outputs": [],
   "source": [
    "df['treatment_Yes'].value_counts().plot(kind='bar')"
   ]
  },
  {
   "cell_type": "markdown",
   "metadata": {
    "slideshow": {
     "slide_type": "slide"
    }
   },
   "source": [
    "## Finalmente, vamos ao treinamento!\n",
    "\n",
    "Vamos separar os dados em treino e teste:"
   ]
  },
  {
   "cell_type": "code",
   "execution_count": null,
   "metadata": {
    "slideshow": {
     "slide_type": "fragment"
    }
   },
   "outputs": [],
   "source": [
    "X = df.drop('treatment_Yes', axis=1)\n",
    "y = df['treatment_Yes']\n",
    "\n",
    "X_train, X_test, y_train, y_test = train_test_split(X , y, test_size = 0.15, random_state=0)\n",
    "print(X_train.shape)"
   ]
  },
  {
   "cell_type": "markdown",
   "metadata": {
    "slideshow": {
     "slide_type": "slide"
    }
   },
   "source": [
    " Vamos usar os dois métodos mais dummies que aprendemos até agora para tentar predizer "
   ]
  },
  {
   "cell_type": "markdown",
   "metadata": {
    "slideshow": {
     "slide_type": "fragment"
    }
   },
   "source": [
    "## Relembrando Árvores de Decisão:\n",
    "\n",
    "<img src=\"https://annalyzin.files.wordpress.com/2016/07/decision-trees-titanic-tutorial.png\" alt=\"drawing\" style=\"width:500px;\"/>\n",
    "<p style=\"text-align: center;\"> Exemplo de árvore de decisão para classificar sobreviventes do Titanic </p>"
   ]
  },
  {
   "cell_type": "code",
   "execution_count": null,
   "metadata": {
    "slideshow": {
     "slide_type": "slide"
    }
   },
   "outputs": [],
   "source": [
    "# crie o modelo com random state igual a 10\n",
    "model_tree = DecisionTreeClassifier(random_state=10)\n",
    "model_tree.fit(X_train, y_train)"
   ]
  },
  {
   "cell_type": "code",
   "execution_count": null,
   "metadata": {
    "slideshow": {
     "slide_type": "fragment"
    }
   },
   "outputs": [],
   "source": [
    "y_pred_tree_train = model_tree.predict_proba(X_train)\n",
    "print(\"Acurácia: {:.2f}\".format(accuracy_score(y_train, y_pred_tree_train[:,1]>0.5)))\n",
    "print(\"Precisão: {:.2f}\".format(precision_score(y_train, y_pred_tree_train[:,1]>0.5)))\n",
    "print(\"Sensibilidade: {:.2f}\".format(recall_score(y_train, y_pred_tree_train[:,1]>0.5)))"
   ]
  },
  {
   "cell_type": "code",
   "execution_count": null,
   "metadata": {
    "scrolled": true,
    "slideshow": {
     "slide_type": "fragment"
    }
   },
   "outputs": [],
   "source": [
    "y_pred_tree = model_tree.predict_proba(X_test)\n",
    "print(\"Acurácia: {:.2f}\".format(accuracy_score(y_test, y_pred_tree[:,1]>0.5)))\n",
    "print(\"Precisão: {:.2f}\".format(precision_score(y_test, y_pred_tree[:,1]>0.5)))\n",
    "print(\"Sensibilidade: {:.2f}\".format(recall_score(y_test, y_pred_tree[:,1]>0.5)))\n"
   ]
  },
  {
   "cell_type": "markdown",
   "metadata": {
    "slideshow": {
     "slide_type": "slide"
    }
   },
   "source": [
    "## KNN "
   ]
  },
  {
   "cell_type": "markdown",
   "metadata": {
    "slideshow": {
     "slide_type": "fragment"
    }
   },
   "source": [
    "![#knn!](https://importq.files.wordpress.com/2017/11/knn_neigh.gif?w=656)\n",
    "\n",
    " - algoritmo de abordagem \"preguiçosa\"\n",
    " - assume que elementos similares estão em proximidade\n",
    " - Calcula a distância para os *N* vizinhos mais próximos e determina a classe de acordo com a classe dos vizinhos\n",
    " \n",
    "Mais informações: https://www.analyticsvidhya.com/blog/2018/03/introduction-k-neighbours-algorithm-clustering/"
   ]
  },
  {
   "cell_type": "code",
   "execution_count": null,
   "metadata": {
    "scrolled": true,
    "slideshow": {
     "slide_type": "slide"
    }
   },
   "outputs": [],
   "source": [
    "# crie o modelo com random state igual a 10\n",
    "model_knn = KNeighborsClassifier()\n",
    "model_knn.fit(X_train,y_train)"
   ]
  },
  {
   "cell_type": "code",
   "execution_count": null,
   "metadata": {
    "slideshow": {
     "slide_type": "fragment"
    }
   },
   "outputs": [],
   "source": [
    "y_pred_knn_train = model_knn.predict_proba(X_train)\n",
    "print(\"Acurácia: {:.2f}\".format(accuracy_score(y_train, y_pred_knn_train[:,1]>0.5)))\n",
    "print(\"Precisão: {:.2f}\".format(precision_score(y_train, y_pred_knn_train[:,1]>0.5)))\n",
    "print(\"Sensibilidade: {:.2f}\".format(recall_score(y_train, y_pred_knn_train[:,1]>0.5)))"
   ]
  },
  {
   "cell_type": "code",
   "execution_count": null,
   "metadata": {
    "slideshow": {
     "slide_type": "fragment"
    }
   },
   "outputs": [],
   "source": [
    "y_pred_knn = model_knn.predict_proba(X_test)\n",
    "print(\"Acurácia: {:.2f}\".format(accuracy_score(y_test, y_pred_knn[:,1]>0.5)))\n",
    "print(\"Precisão: {:.2f}\".format(precision_score(y_test, y_pred_knn[:,1]>0.5)))\n",
    "print(\"Sensibilidade: {:.2f}\".format(recall_score(y_test, y_pred_knn[:,1]>0.5)))"
   ]
  },
  {
   "cell_type": "markdown",
   "metadata": {
    "slideshow": {
     "slide_type": "subslide"
    }
   },
   "source": [
    "### Como acham que podemos combinar esses modelos?\n",
    "- .\n",
    "- .\n",
    "- .\n",
    "- ."
   ]
  },
  {
   "cell_type": "code",
   "execution_count": null,
   "metadata": {
    "slideshow": {
     "slide_type": "slide"
    }
   },
   "outputs": [],
   "source": [
    "model_vot = VotingClassifier(estimators=[('tree', model_tree), ('knn', model_knn)], voting='soft')\n",
    "model_vot.fit(X_train, y_train)                             "
   ]
  },
  {
   "cell_type": "code",
   "execution_count": null,
   "metadata": {
    "slideshow": {
     "slide_type": "fragment"
    }
   },
   "outputs": [],
   "source": [
    "y_pred = model_vot.predict(X_test)\n",
    "print(\"Acurácia: {:.2f}\".format(accuracy_score(y_test, y_pred)))\n",
    "print(\"Precisão: {:.2f}\".format(precision_score(y_test, y_pred)))\n",
    "print(\"Sensibilidade: {:.2f}\".format(recall_score(y_test, y_pred)))"
   ]
  },
  {
   "cell_type": "code",
   "execution_count": null,
   "metadata": {
    "slideshow": {
     "slide_type": "slide"
    }
   },
   "outputs": [],
   "source": [
    "x_novo = np.array([y_pred_tree_train[:,1], y_pred_knn_train[:,1]])\n",
    "x_novo = x_novo.transpose()\n",
    "\n",
    "x_novo_test = np.array([y_pred_tree[:,1], y_pred_knn[:,1]])\n",
    "x_novo_test = x_novo_test.transpose()"
   ]
  },
  {
   "cell_type": "code",
   "execution_count": null,
   "metadata": {
    "slideshow": {
     "slide_type": "fragment"
    }
   },
   "outputs": [],
   "source": [
    "model_lr2 = LogisticRegression()\n",
    "model_lr2.fit(x_novo, y_train)"
   ]
  },
  {
   "cell_type": "code",
   "execution_count": null,
   "metadata": {
    "slideshow": {
     "slide_type": "fragment"
    }
   },
   "outputs": [],
   "source": [
    "y_pred_lr = model_lr2.predict_proba(x_novo_test)\n",
    "print(\"Acurácia: {:.2f}\".format(accuracy_score(y_test, y_pred_lr[:,1]>0.5)))\n",
    "print(\"Precisão: {:.2f}\".format(precision_score(y_test, y_pred_lr[:,1]>0.5)))\n",
    "print(\"Sensibilidade: {:.2f}\".format(recall_score(y_test, y_pred_lr[:,1]>0.5)))"
   ]
  },
  {
   "cell_type": "markdown",
   "metadata": {
    "slideshow": {
     "slide_type": "slide"
    }
   },
   "source": [
    "## 2. Tipos de Ensemble:\n",
    "\n",
    "Existem vários formas diferentes de combinar os modelos. As principais são:\n",
    "\n",
    "\n",
    "### **1. Voting Based Classifier:**\n",
    "\n",
    "**1. a) Majority Vote**\n",
    "\n",
    "A ideia é fazer uma votação entre as predições dos modelos. A classe que tiver mais votos vence. Também podemos ter uma variação desse algoritmo, o **Weighted Voting Classifier**, em que na votação alguns modelos tem mais peso que outros.\n",
    "\n",
    "![](voting.png)\n",
    "\n",
    "\n",
    "**1. b) Average Classifier:**\n",
    "\n",
    "A ideia é similar ao anterior, porém ao invés de uma votação é calculada a média das predições. Da mesma forma podemos ter alguns modelos com mais peso que outros tendo um **Weighted Average Classifier**\n",
    "![](average.png)\n"
   ]
  },
  {
   "cell_type": "markdown",
   "metadata": {
    "slideshow": {
     "slide_type": "slide"
    }
   },
   "source": [
    "### 2. Stacking:\n",
    "\n",
    "Nesse modelo as predições dos modelos anteriores são combinadas por um outro modelo para obter a saída final. Podem ser criadas várias camadas com modelos diferentes.\n",
    "\n",
    "![](stacking.png)\n",
    "\n",
    "### 3. Boosting:\n",
    "\n",
    "Os modelos são treinados com os mesmos datasets, porém os pesos das intâncias são ajustados de acordo com o erro das predições anteriores. Veram mais na próxima aula...\n",
    "\n",
    "![](boosting.png)\n",
    "\n",
    "## 4. BAGGING: \n",
    "Todos os modelos deste tipo de ensemble são do **mesmo algoritmo**, porém os dados de entrada de cada um são amostras do dado original, com a **mesma quantidade de dados do dataset original**, selecionadas usando o método bootstrap (**aleatória com repetição**). \n",
    "\n",
    "**AQUI TEMOS A RANDOM FOREST**\n",
    "\n",
    "![](bagging.png)"
   ]
  },
  {
   "cell_type": "markdown",
   "metadata": {
    "slideshow": {
     "slide_type": "slide"
    }
   },
   "source": [
    "## 4. RANDOM FOREST"
   ]
  },
  {
   "cell_type": "markdown",
   "metadata": {
    "slideshow": {
     "slide_type": "fragment"
    }
   },
   "source": [
    "###  Como Funciona?\n",
    "\n",
    "![#OOB!](https://cdn-images-1.medium.com/max/1600/1*yoW30XVqAnKOA-7AArXqNg.gif)\n",
    "\n",
    "- Algoritmo de bagging que usa árvores de decisão\n",
    "- Cada árvore terá um conjunto diferente de dados e de features\n",
    "- Out-of-bag score: os dados que não foram usados naquela árvore são utilizados como teste"
   ]
  },
  {
   "cell_type": "code",
   "execution_count": null,
   "metadata": {
    "scrolled": true,
    "slideshow": {
     "slide_type": "slide"
    }
   },
   "outputs": [],
   "source": [
    "model = RandomForestClassifier(n_estimators=10, random_state=0, oob_score=True)\n",
    "model.fit(X_train, y_train)"
   ]
  },
  {
   "cell_type": "code",
   "execution_count": null,
   "metadata": {
    "slideshow": {
     "slide_type": "fragment"
    }
   },
   "outputs": [],
   "source": [
    "model.oob_score_"
   ]
  },
  {
   "cell_type": "code",
   "execution_count": null,
   "metadata": {
    "slideshow": {
     "slide_type": "fragment"
    }
   },
   "outputs": [],
   "source": [
    "y_pred = model.predict(X_test)\n",
    "print(\"Acurácia: {:.2f}\".format(accuracy_score(y_test, y_pred)))\n",
    "print(\"Precisão: {:.2f}\".format(precision_score(y_test, y_pred)))\n",
    "print(\"Sensibilidade: {:.2f}\".format(recall_score(y_test, y_pred)))"
   ]
  },
  {
   "cell_type": "markdown",
   "metadata": {
    "scrolled": true,
    "slideshow": {
     "slide_type": "slide"
    }
   },
   "source": [
    "Vamos testar outras combinações de parâmetros?\n",
    "\n",
    "`Dica 1: Manter o mesmo random_state para comparação de resultados\n",
    " Dica 2: Os parâmetros são similares as árvores de decisão\n",
    " Dica 3: Número de estimadores e de features são os mais relevantes ` "
   ]
  },
  {
   "cell_type": "code",
   "execution_count": null,
   "metadata": {},
   "outputs": [],
   "source": []
  },
  {
   "cell_type": "code",
   "execution_count": null,
   "metadata": {},
   "outputs": [],
   "source": []
  },
  {
   "cell_type": "code",
   "execution_count": null,
   "metadata": {},
   "outputs": [],
   "source": []
  },
  {
   "cell_type": "code",
   "execution_count": null,
   "metadata": {},
   "outputs": [],
   "source": []
  },
  {
   "cell_type": "markdown",
   "metadata": {},
   "source": [
    "Feature importance:"
   ]
  },
  {
   "cell_type": "code",
   "execution_count": null,
   "metadata": {
    "scrolled": false,
    "slideshow": {
     "slide_type": "fragment"
    }
   },
   "outputs": [],
   "source": [
    "importances = model.feature_importances_\n",
    "std = np.std([tree.feature_importances_ for tree in model.estimators_],\n",
    "             axis=0)\n",
    "indices = np.argsort(importances)[::1]\n",
    "\n",
    "\n",
    "# Plot the feature importances of the forest\n",
    "plt.figure(figsize=(15,15))\n",
    "plt.title(\"Feature importances\")\n",
    "plt.barh(range(X.shape[1]), importances[indices],\n",
    "       color=\"r\", yerr=std[indices], align=\"center\")\n",
    "plt.yticks(range(X.shape[1]), X.columns[indices])\n",
    "plt.ylim([-1, X.shape[1]])\n",
    "plt.show()"
   ]
  },
  {
   "cell_type": "code",
   "execution_count": null,
   "metadata": {
    "slideshow": {
     "slide_type": "slide"
    }
   },
   "outputs": [],
   "source": [
    "from sklearn.tree import export_graphviz\n",
    "# Export as dot file\n",
    "export_graphviz(model.estimators_[0], out_file='tree.dot', \n",
    "                feature_names = X.columns,\n",
    "                class_names = ['1', '0'],\n",
    "                rounded = True, proportion = False, \n",
    "                precision = 2, filled = True, max_depth=4)\n",
    "\n",
    "# Convert to png using system command (requires Graphviz)\n",
    "from subprocess import call\n",
    "call(['dot', '-Tpng', 'tree.dot', '-o', 'tree.png', '-Gdpi=600'])\n",
    "\n",
    "# Display in jupyter notebook\n",
    "from IPython.display import Image\n",
    "Image(filename = 'tree.png')"
   ]
  },
  {
   "cell_type": "markdown",
   "metadata": {
    "slideshow": {
     "slide_type": "subslide"
    }
   },
   "source": [
    "### Quais tipos de problemas podemos resolver com random forest?\n",
    "\n",
    "- .\n",
    "- .\n",
    "- .\n",
    "- ."
   ]
  },
  {
   "cell_type": "markdown",
   "metadata": {
    "slideshow": {
     "slide_type": "subslide"
    }
   },
   "source": [
    "### Quais vantagens e desvantagens vocês enxergam?\n",
    "\n",
    "*. Vantagens:\n",
    "- .\n",
    "- .\n",
    "- .\n",
    "- .\n",
    "\n",
    "*. Desvantagens:\n",
    "- .\n",
    "- .\n",
    "- .\n",
    "- ."
   ]
  },
  {
   "cell_type": "markdown",
   "metadata": {},
   "source": [
    "# 5. LightGBM (Gradient Boosting Machine)\n",
    "\n",
    "\n",
    "![](https://image.slidesharecdn.com/stratauk17salvarisfierrofastretraining-170523090635/95/speeding-up-machinelearning-applications-with-the-lightgbm-library-6-638.jpg)"
   ]
  },
  {
   "cell_type": "code",
   "execution_count": null,
   "metadata": {},
   "outputs": [],
   "source": [
    "import lightgbm as lgb"
   ]
  },
  {
   "cell_type": "code",
   "execution_count": null,
   "metadata": {},
   "outputs": [],
   "source": [
    "model = lgb.LGBMClassifier(objective = 'binary',\n",
    "          n_jobs = 3, # Updated from 'nthread'\n",
    "          silent = True,\n",
    "          max_depth = 10,\n",
    "          min_child_samples=5,\n",
    "          learning_rate=0.1,\n",
    "          n_estimators=50,\n",
    "          num_leaves= 8)\n",
    "\n",
    "\n",
    "model.fit(X_train, y_train)"
   ]
  },
  {
   "cell_type": "code",
   "execution_count": null,
   "metadata": {},
   "outputs": [],
   "source": [
    "y_pred = model.predict(X_test)\n",
    "\n",
    "print(\"Acurácia: {:.2f}\".format(accuracy_score(y_test, y_pred)))\n",
    "print(\"Precisão: {:.2f}\".format(precision_score(y_test, y_pred)))\n",
    "print(\"Sensibilidade: {:.2f}\".format(recall_score(y_test, y_pred)))"
   ]
  },
  {
   "cell_type": "markdown",
   "metadata": {},
   "source": [
    "### Quais vantagens e desvantagens vocês enxergam?\n",
    "*. Vantagens:\n",
    "- .\n",
    "- .\n",
    "- .\n",
    "- .\n",
    "\n",
    "*. Desvantagens:\n",
    "- .\n",
    "- .\n",
    "- ."
   ]
  },
  {
   "cell_type": "markdown",
   "metadata": {
    "slideshow": {
     "slide_type": "fragment"
    }
   },
   "source": [
    "## Desafios legais para serem resolvidos com ensemble:\n",
    "- https://www.kaggle.com/c/avito-demand-prediction/data\n",
    "- https://www.kaggle.com/c/recruit-restaurant-visitor-forecasting\n",
    "- https://www.kaggle.com/c/sf-crime\n",
    "- https://www.kaggle.com/c/house-prices-advanced-regression-techniques"
   ]
  },
  {
   "cell_type": "code",
   "execution_count": null,
   "metadata": {},
   "outputs": [],
   "source": []
  }
 ],
 "metadata": {
  "kernelspec": {
   "display_name": "Python 3",
   "language": "python",
   "name": "python3"
  },
  "language_info": {
   "codemirror_mode": {
    "name": "ipython",
    "version": 3
   },
   "file_extension": ".py",
   "mimetype": "text/x-python",
   "name": "python",
   "nbconvert_exporter": "python",
   "pygments_lexer": "ipython3",
   "version": "3.6.7"
  }
 },
 "nbformat": 4,
 "nbformat_minor": 2
}
