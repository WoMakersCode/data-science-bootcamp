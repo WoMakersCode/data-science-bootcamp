{
 "cells": [
  {
   "cell_type": "markdown",
   "metadata": {},
   "source": [
    "# Spark UDFs\n",
    "\n",
    "UDF (User Defined Function) são funções customizadas que podemos aplicar sobre colunas do Spark DataFrame."
   ]
  },
  {
   "cell_type": "markdown",
   "metadata": {},
   "source": [
    "## Vamos criar um DataFrame de exemplo"
   ]
  },
  {
   "cell_type": "code",
   "execution_count": 1,
   "metadata": {},
   "outputs": [],
   "source": [
    "import pandas as pd"
   ]
  },
  {
   "cell_type": "code",
   "execution_count": 2,
   "metadata": {},
   "outputs": [],
   "source": [
    "pandas_df = pd.DataFrame({\n",
    "  'id': [1, 2, 3, 4],\n",
    "  'age': [14, 15, 16, 16],\n",
    "  'name': ['Barbara Maria', 'Barbara Beatriz', 'Cris', 'Danielle']})\n",
    "\n",
    "df = spark.createDataFrame(pandas_df)"
   ]
  },
  {
   "cell_type": "code",
   "execution_count": 3,
   "metadata": {},
   "outputs": [
    {
     "name": "stdout",
     "output_type": "stream",
     "text": [
      "+---+---+---------------+\n",
      "| id|age|           name|\n",
      "+---+---+---------------+\n",
      "|  1| 14|  Barbara Maria|\n",
      "|  2| 15|Barbara Beatriz|\n",
      "|  3| 16|           Cris|\n",
      "|  4| 16|       Danielle|\n",
      "+---+---+---------------+\n",
      "\n"
     ]
    }
   ],
   "source": [
    "df.show()"
   ]
  },
  {
   "cell_type": "code",
   "execution_count": 4,
   "metadata": {},
   "outputs": [
    {
     "name": "stdout",
     "output_type": "stream",
     "text": [
      "root\n",
      " |-- id: long (nullable = true)\n",
      " |-- age: long (nullable = true)\n",
      " |-- name: string (nullable = true)\n",
      "\n"
     ]
    }
   ],
   "source": [
    "df.printSchema()"
   ]
  },
  {
   "cell_type": "markdown",
   "metadata": {},
   "source": [
    "## Exemplos"
   ]
  },
  {
   "cell_type": "markdown",
   "metadata": {},
   "source": [
    "### Idade no ano que vem\n",
    "\n",
    "Vamos criar uma `udf` que retorna a idade no ano seguinte (ou seja, a idade somada a um)."
   ]
  },
  {
   "cell_type": "markdown",
   "metadata": {},
   "source": [
    "Primeiro, definimos uma função `soma_um`, que soma 1 a um número"
   ]
  },
  {
   "cell_type": "code",
   "execution_count": 5,
   "metadata": {},
   "outputs": [],
   "source": [
    "def soma_um(num):\n",
    "    return num + 1"
   ]
  },
  {
   "cell_type": "markdown",
   "metadata": {},
   "source": [
    "Para criar a UDF, basta passar dois parâmetros para a função `udf`: a função e o tipo de retorno dela. Como idade é um campo inteiro, sabemos que o retorno dessa função será um número inteiro (`T.IntegerType()` - ou poderia também ser `T.LongType()`, que também é um tipo inteiro, mas para números maiores)."
   ]
  },
  {
   "cell_type": "code",
   "execution_count": 6,
   "metadata": {},
   "outputs": [],
   "source": [
    "import pyspark.sql.functions as F\n",
    "import pyspark.sql.types as T"
   ]
  },
  {
   "cell_type": "code",
   "execution_count": 7,
   "metadata": {},
   "outputs": [],
   "source": [
    "soma_um_udf = F.udf(soma_um, T.IntegerType())"
   ]
  },
  {
   "cell_type": "markdown",
   "metadata": {},
   "source": [
    "Aplicando `soma_um_udf` na coluna `age`, criamos uma nova coluna chamada `age_plus_one`:"
   ]
  },
  {
   "cell_type": "code",
   "execution_count": 8,
   "metadata": {},
   "outputs": [],
   "source": [
    "df = df.withColumn('age_plus_one', soma_um_udf('age'))"
   ]
  },
  {
   "cell_type": "code",
   "execution_count": 9,
   "metadata": {},
   "outputs": [
    {
     "name": "stdout",
     "output_type": "stream",
     "text": [
      "+---+---+---------------+------------+\n",
      "| id|age|           name|age_plus_one|\n",
      "+---+---+---------------+------------+\n",
      "|  1| 14|  Barbara Maria|          15|\n",
      "|  2| 15|Barbara Beatriz|          16|\n",
      "|  3| 16|           Cris|          17|\n",
      "|  4| 16|       Danielle|          17|\n",
      "+---+---+---------------+------------+\n",
      "\n"
     ]
    }
   ],
   "source": [
    "df.show()"
   ]
  },
  {
   "cell_type": "markdown",
   "metadata": {},
   "source": [
    "**Observação**: Note que, neste caso, não precisaríamos (e **não deveríamos**) construir uma `udf` para fazer essa operação. Conseguimos fazer essa operação de adicionar 1 a um número da seguinte forma:"
   ]
  },
  {
   "cell_type": "code",
   "execution_count": 10,
   "metadata": {},
   "outputs": [
    {
     "name": "stdout",
     "output_type": "stream",
     "text": [
      "+---+---+---------------+------------+\n",
      "| id|age|           name|age_plus_one|\n",
      "+---+---+---------------+------------+\n",
      "|  1| 14|  Barbara Maria|          15|\n",
      "|  2| 15|Barbara Beatriz|          16|\n",
      "|  3| 16|           Cris|          17|\n",
      "|  4| 16|       Danielle|          17|\n",
      "+---+---+---------------+------------+\n",
      "\n"
     ]
    }
   ],
   "source": [
    "df.withColumn('age_plus_one', F.col('age') + 1).show()"
   ]
  },
  {
   "cell_type": "markdown",
   "metadata": {},
   "source": [
    "### Primeiro nome\n",
    "\n",
    "Vamos criar uma coluna chamada `first_name` que conterá o primeiro nome, segundo a coluna `name` de cada um dos registros."
   ]
  },
  {
   "cell_type": "code",
   "execution_count": 11,
   "metadata": {},
   "outputs": [],
   "source": [
    "def get_first_name(name):\n",
    "    return name.split(' ')[0]"
   ]
  },
  {
   "cell_type": "markdown",
   "metadata": {},
   "source": [
    "Nesse caso, nossa função retorna uma `string`, assim vamos utilizar `T.StringType()` como segundo parâmetro da `F.udf`."
   ]
  },
  {
   "cell_type": "code",
   "execution_count": 12,
   "metadata": {},
   "outputs": [],
   "source": [
    "get_first_name_udf = F.udf(get_first_name, T.StringType())"
   ]
  },
  {
   "cell_type": "code",
   "execution_count": 13,
   "metadata": {},
   "outputs": [],
   "source": [
    "df = df.withColumn('first_name', get_first_name_udf('name'))"
   ]
  },
  {
   "cell_type": "code",
   "execution_count": 14,
   "metadata": {},
   "outputs": [
    {
     "name": "stdout",
     "output_type": "stream",
     "text": [
      "+---+---+---------------+------------+----------+\n",
      "| id|age|           name|age_plus_one|first_name|\n",
      "+---+---+---------------+------------+----------+\n",
      "|  1| 14|  Barbara Maria|          15|   Barbara|\n",
      "|  2| 15|Barbara Beatriz|          16|   Barbara|\n",
      "|  3| 16|           Cris|          17|      Cris|\n",
      "|  4| 16|       Danielle|          17|  Danielle|\n",
      "+---+---+---------------+------------+----------+\n",
      "\n"
     ]
    }
   ],
   "source": [
    "df.show()"
   ]
  },
  {
   "cell_type": "markdown",
   "metadata": {},
   "source": [
    "**Observação**: Note que, neste caso, também, não precisaríamos (e **não deveríamos**) construir uma `udf` para fazer essa operação. Conseguimos fazer essa operação de capturar o primeiro nome da seguinte forma:"
   ]
  },
  {
   "cell_type": "code",
   "execution_count": 15,
   "metadata": {},
   "outputs": [
    {
     "name": "stdout",
     "output_type": "stream",
     "text": [
      "+---+---+---------------+------------+----------+\n",
      "| id|age|           name|age_plus_one|first_name|\n",
      "+---+---+---------------+------------+----------+\n",
      "|  1| 14|  Barbara Maria|          15|   Barbara|\n",
      "|  2| 15|Barbara Beatriz|          16|   Barbara|\n",
      "|  3| 16|           Cris|          17|      Cris|\n",
      "|  4| 16|       Danielle|          17|  Danielle|\n",
      "+---+---+---------------+------------+----------+\n",
      "\n"
     ]
    }
   ],
   "source": [
    "df.withColumn('first_name', F.split('name', ' ')[0]).show()"
   ]
  },
  {
   "cell_type": "markdown",
   "metadata": {},
   "source": [
    "## Exercício: crie e aplique uma udf que conta a quantidade de caracteres de cada nome"
   ]
  },
  {
   "cell_type": "code",
   "execution_count": 16,
   "metadata": {},
   "outputs": [],
   "source": [
    "###"
   ]
  },
  {
   "cell_type": "markdown",
   "metadata": {},
   "source": [
    "Assim como nos outros casos, existe uma função pronta do spark que já faz essa operação. Você consegue descobrir qual é e checar se ela realmente tem o mesmo comportamento da udf criada?"
   ]
  },
  {
   "cell_type": "code",
   "execution_count": 17,
   "metadata": {},
   "outputs": [],
   "source": [
    "###"
   ]
  }
 ],
 "metadata": {
  "kernelspec": {
   "display_name": "pyspark-kernel",
   "language": "python",
   "name": "spark"
  },
  "language_info": {
   "codemirror_mode": {
    "name": "ipython",
    "version": 3
   },
   "file_extension": ".py",
   "mimetype": "text/x-python",
   "name": "python",
   "nbconvert_exporter": "python",
   "pygments_lexer": "ipython3",
   "version": "3.7.4"
  }
 },
 "nbformat": 4,
 "nbformat_minor": 4
}
