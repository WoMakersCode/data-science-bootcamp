{
  "nbformat": 4,
  "nbformat_minor": 0,
  "metadata": {
    "colab": {
      "name": "titanic.ipynb",
      "provenance": [],
      "collapsed_sections": [],
      "toc_visible": true
    },
    "kernelspec": {
      "name": "python3",
      "display_name": "Python 3"
    }
  },
  "cells": [
    {
      "cell_type": "markdown",
      "metadata": {
        "colab_type": "text",
        "id": "nKuIfr_KaNxn"
      },
      "source": [
        "# **Desafio prático - Classificação de dados com a competição do Titanic**"
      ]
    },
    {
      "cell_type": "markdown",
      "metadata": {
        "id": "oYuFbfSeu6_i",
        "colab_type": "text"
      },
      "source": [
        "![](https://media.giphy.com/media/Uj3SeuVfg2oCs/giphy.gif)"
      ]
    },
    {
      "cell_type": "markdown",
      "metadata": {
        "id": "1P5IpCFCgmvc",
        "colab_type": "text"
      },
      "source": [
        "O problema de classificação que iremos resolver é o descrito na competição do Kaggle [Titanic: Machine Learning from Disaster](https://www.kaggle.com/c/titanic). Esse desafio é muito famoso e utilizado por quem está começando na área de Data Science e/ou a participar de competições pelo Kaggle (apesar de ser um assunto #badvibes).\n",
        "\n",
        "![](https://media.giphy.com/media/4ryp9Ihw0BEyc/giphy.gif)\n",
        "\n",
        "O objetivo da competição é simples: **criar um modelo utilizando Machine Learning para predizer se um passageiro do Titanic sobreviveu ou não ao naufrágio**."
      ]
    },
    {
      "cell_type": "markdown",
      "metadata": {
        "id": "SOk7RZDCaOw-",
        "colab_type": "text"
      },
      "source": [
        "## **Bibliotecas auxiliares**"
      ]
    },
    {
      "cell_type": "markdown",
      "metadata": {
        "id": "xs-67JclxaiL",
        "colab_type": "text"
      },
      "source": [
        "Aqui nós vamos importar as algumas das bibliotecas necessárias para fazer a análise e visualização dos dados (lembram dessas aulas?)"
      ]
    },
    {
      "cell_type": "code",
      "metadata": {
        "id": "KHvOv5sCXZ02",
        "colab_type": "code",
        "colab": {}
      },
      "source": [
        "import pandas as pd\n",
        "import numpy as np\n",
        "import seaborn as sns\n",
        "import matplotlib.pyplot as plt"
      ],
      "execution_count": 0,
      "outputs": []
    },
    {
      "cell_type": "markdown",
      "metadata": {
        "id": "6fQYMoroiKTb",
        "colab_type": "text"
      },
      "source": [
        "### **Conhecendo nossos conjuntos de dados**"
      ]
    },
    {
      "cell_type": "code",
      "metadata": {
        "id": "88gyz2_Ea42A",
        "colab_type": "code",
        "colab": {}
      },
      "source": [
        "train = pd.read_csv('train.csv')\n",
        "submission = pd.read_csv('test.csv')"
      ],
      "execution_count": 0,
      "outputs": []
    },
    {
      "cell_type": "markdown",
      "metadata": {
        "id": "QfB36o6QA_zi",
        "colab_type": "text"
      },
      "source": [
        "Vamos ver a carinha dos nossos conjuntos de dados?"
      ]
    },
    {
      "cell_type": "code",
      "metadata": {
        "id": "J8BqMyy9cOe3",
        "colab_type": "code",
        "colab": {}
      },
      "source": [
        "#TODO"
      ],
      "execution_count": 0,
      "outputs": []
    },
    {
      "cell_type": "code",
      "metadata": {
        "id": "Rlfws1wQcT4w",
        "colab_type": "code",
        "colab": {}
      },
      "source": [
        "#TODO"
      ],
      "execution_count": 0,
      "outputs": []
    },
    {
      "cell_type": "markdown",
      "metadata": {
        "id": "Iig0D3thGIUw",
        "colab_type": "text"
      },
      "source": [
        "Na tabela abaixo podemos conferir o significado de cada um dos atributos presentes no conjunto de dados:\n",
        "\n",
        "|Atributo| Descrição|\n",
        "|--------|----------|\n",
        "|**PassengerId**| id do passageiro|\n",
        "|**Pclass**| classe do ticket|\n",
        "|**Name**|nome do passageiro|\n",
        "|**Sex**|gênero do passageiro|\n",
        "|**Age**|idade do passageiro (em anos)|\n",
        "|**SibSp**|Quantidade de irmãos/cônjuge que também embarcaram no Titanic|\n",
        "|**Parch**|Quantidade de pais/filhos que também embarcaram no Titanic|\n",
        "|**Ticket**|Número do ticket do passageiro|\n",
        "|**Fare**|Tarifa paga pelo passageiro|\n",
        "|**Cabin**|Número da cabine|\n",
        "|**Embarked**|Porto de embarque|\n",
        "|**Survived**|Indica se o passageiro sobreviveu ou não ao naufrágio (é o nosso target)|\n"
      ]
    },
    {
      "cell_type": "markdown",
      "metadata": {
        "id": "-GWYyJWDAnut",
        "colab_type": "text"
      },
      "source": [
        "Vamos verificar o tamanho dos conjuntos de treinamento e teste?"
      ]
    },
    {
      "cell_type": "code",
      "metadata": {
        "id": "VWN5erVhcVPv",
        "colab_type": "code",
        "colab": {}
      },
      "source": [
        "#TODO"
      ],
      "execution_count": 0,
      "outputs": []
    },
    {
      "cell_type": "code",
      "metadata": {
        "id": "GSa79i8pdEwi",
        "colab_type": "code",
        "colab": {}
      },
      "source": [
        "#TODO"
      ],
      "execution_count": 0,
      "outputs": []
    },
    {
      "cell_type": "markdown",
      "metadata": {
        "id": "eqS3i_i7E5qI",
        "colab_type": "text"
      },
      "source": [
        "Vamos ver os tipos dos dados do conjunto de treinamento (também podemos verificar a quantidade de valores faltantes para cada atributo)?"
      ]
    },
    {
      "cell_type": "code",
      "metadata": {
        "id": "qAXDw6mYE6CA",
        "colab_type": "code",
        "colab": {}
      },
      "source": [
        "#TODO"
      ],
      "execution_count": 0,
      "outputs": []
    },
    {
      "cell_type": "markdown",
      "metadata": {
        "id": "e8Ato1xlkYHL",
        "colab_type": "text"
      },
      "source": [
        "### **Remoção de features irrelevantes**\n",
        "\n",
        "Algumas features presentes em nosso conjunto de dados não são úteis para nos ajudar a predizer se um passageiro sobreviveu ou não ao naufrágio do Titanic. Essas features geralmente estão relacionadas a identificadores únicos de um indivíduo e, portanto, não ajudam na generalização do modelo.\n",
        "\n",
        "Que features seriam essas?"
      ]
    },
    {
      "cell_type": "code",
      "metadata": {
        "id": "-6Dj3ZUeCpOo",
        "colab_type": "code",
        "colab": {}
      },
      "source": [
        "def count_unique(df):\n",
        "  print(\"Quantidade de valores únicos para cada feature no conjunto de treinamento\")\n",
        "  for i in df.columns:\n",
        "    print(f\"{i}: {df[i].nunique()}\")"
      ],
      "execution_count": 0,
      "outputs": []
    },
    {
      "cell_type": "code",
      "metadata": {
        "id": "lJ9nEWv1DWc6",
        "colab_type": "code",
        "colab": {}
      },
      "source": [
        "count_unique(train)"
      ],
      "execution_count": 0,
      "outputs": []
    },
    {
      "cell_type": "markdown",
      "metadata": {
        "id": "bo993xJcwH-M",
        "colab_type": "text"
      },
      "source": [
        "Podemos remover esses casos que não fazem sentido do nosso conjunto de dados:"
      ]
    },
    {
      "cell_type": "code",
      "metadata": {
        "id": "truQJtlzmEUS",
        "colab_type": "code",
        "colab": {}
      },
      "source": [
        "#TODO"
      ],
      "execution_count": 0,
      "outputs": []
    },
    {
      "cell_type": "code",
      "metadata": {
        "id": "fPyuOc-_mY8y",
        "colab_type": "code",
        "colab": {}
      },
      "source": [
        "#TODO "
      ],
      "execution_count": 0,
      "outputs": []
    },
    {
      "cell_type": "code",
      "metadata": {
        "id": "zMNkRTQ1nHoj",
        "colab_type": "code",
        "colab": {}
      },
      "source": [
        "#TODO"
      ],
      "execution_count": 0,
      "outputs": []
    },
    {
      "cell_type": "markdown",
      "metadata": {
        "id": "xZvTPTRHa9AP",
        "colab_type": "text"
      },
      "source": [
        "### **Análise exploratória (Exploratory Data Analysis - EDA)**"
      ]
    },
    {
      "cell_type": "markdown",
      "metadata": {
        "id": "9cDdg22XKWK5",
        "colab_type": "text"
      },
      "source": [
        "Antes de treinarmos nosso modelo, precisamos fazer uma análise dos nossos dados para entender o nosso conjunto de treinamento e verificar quais atributos fazem sentido e verificar se alguma transformação será necessária."
      ]
    },
    {
      "cell_type": "markdown",
      "metadata": {
        "id": "eQmK-xjVHK-K",
        "colab_type": "text"
      },
      "source": [
        "### Survived (Sobrevivência do passageiro)"
      ]
    },
    {
      "cell_type": "markdown",
      "metadata": {
        "id": "k_Dy_9sCnacz",
        "colab_type": "text"
      },
      "source": [
        "Primeiramente, é interessante olharmos a proporção do nosso target no nosso conjunto de dados:"
      ]
    },
    {
      "cell_type": "code",
      "metadata": {
        "id": "Nz0T5pz8dyxR",
        "colab_type": "code",
        "colab": {}
      },
      "source": [
        "#TODO"
      ],
      "execution_count": 0,
      "outputs": []
    },
    {
      "cell_type": "markdown",
      "metadata": {
        "id": "Z8FdHyzmAJla",
        "colab_type": "text"
      },
      "source": [
        "Os passageiros com o target igual a 0 são aqueles que não sobreviveram ao naufrágio, enquanto que os que sobreviveram estão com o valor 1 no target."
      ]
    },
    {
      "cell_type": "code",
      "metadata": {
        "id": "bxRQMnCMxmy_",
        "colab_type": "code",
        "colab": {}
      },
      "source": [
        "#TODO"
      ],
      "execution_count": 0,
      "outputs": []
    },
    {
      "cell_type": "code",
      "metadata": {
        "id": "fUC1g1MMnwQj",
        "colab_type": "code",
        "colab": {}
      },
      "source": [
        "print(f\"Considerando nosso conjunto de treinamento, {train.Survived.value_counts()[0]/train.shape[0]*100:.2f}% dos passageiros não sobreviveram ao naufrágio :(\")"
      ],
      "execution_count": 0,
      "outputs": []
    },
    {
      "cell_type": "markdown",
      "metadata": {
        "id": "kSuYbv4VQzhy",
        "colab_type": "text"
      },
      "source": [
        "###  Pclass (classe do ticket do passageiro) \t \t \t \t \t \t"
      ]
    },
    {
      "cell_type": "markdown",
      "metadata": {
        "id": "E7D2TfpDLx9r",
        "colab_type": "text"
      },
      "source": [
        " De acordo com a descrição das features no Kaggle, os valores para esse atributo têm os seguintes significados:\n",
        " - 1 - Classe alta\n",
        " - 2 - Classe média\n",
        " - 3 - Classe baixa\n"
      ]
    },
    {
      "cell_type": "code",
      "metadata": {
        "id": "jCA-3PuvFrLl",
        "colab_type": "code",
        "colab": {}
      },
      "source": [
        "#TODO"
      ],
      "execution_count": 0,
      "outputs": []
    },
    {
      "cell_type": "markdown",
      "metadata": {
        "id": "NrTwgvf_MpBp",
        "colab_type": "text"
      },
      "source": [
        "Podemos agora comparar a classe dos passageiros com relação ao nosso target para verificar se ela é relevante:"
      ]
    },
    {
      "cell_type": "code",
      "metadata": {
        "id": "Fq4UcZPTMy3O",
        "colab_type": "code",
        "colab": {}
      },
      "source": [
        "#TODO"
      ],
      "execution_count": 0,
      "outputs": []
    },
    {
      "cell_type": "code",
      "metadata": {
        "id": "MB1RXriqN3LZ",
        "colab_type": "code",
        "colab": {}
      },
      "source": [
        "#TODO"
      ],
      "execution_count": 0,
      "outputs": []
    },
    {
      "cell_type": "markdown",
      "metadata": {
        "id": "xYlPUaxCFpy1",
        "colab_type": "text"
      },
      "source": [
        "###  Sex (gênero do passageiro) \t \t \t \t"
      ]
    },
    {
      "cell_type": "code",
      "metadata": {
        "id": "a5ptqq6tQgtL",
        "colab_type": "code",
        "colab": {}
      },
      "source": [
        "#TODO"
      ],
      "execution_count": 0,
      "outputs": []
    },
    {
      "cell_type": "code",
      "metadata": {
        "id": "zVjG8eHGQhLS",
        "colab_type": "code",
        "colab": {}
      },
      "source": [
        "#TODO"
      ],
      "execution_count": 0,
      "outputs": []
    },
    {
      "cell_type": "code",
      "metadata": {
        "id": "HPdFb7-RQhae",
        "colab_type": "code",
        "colab": {}
      },
      "source": [
        "# proporção de sobrevivência por gênero\n",
        "#TODO"
      ],
      "execution_count": 0,
      "outputs": []
    },
    {
      "cell_type": "code",
      "metadata": {
        "id": "FAw8t4PFdhM8",
        "colab_type": "code",
        "colab": {}
      },
      "source": [
        "#TODO"
      ],
      "execution_count": 0,
      "outputs": []
    },
    {
      "cell_type": "markdown",
      "metadata": {
        "id": "8obKrHmBFpca",
        "colab_type": "text"
      },
      "source": [
        "###  Age (idade do passageiro) \t \t"
      ]
    },
    {
      "cell_type": "code",
      "metadata": {
        "id": "mrHK8SDiSwt4",
        "colab_type": "code",
        "colab": {}
      },
      "source": [
        "#TODO"
      ],
      "execution_count": 0,
      "outputs": []
    },
    {
      "cell_type": "code",
      "metadata": {
        "id": "DZIVZ6FIOex9",
        "colab_type": "code",
        "colab": {}
      },
      "source": [
        "#TODO"
      ],
      "execution_count": 0,
      "outputs": []
    },
    {
      "cell_type": "code",
      "metadata": {
        "id": "4A6oLcnIYW0n",
        "colab_type": "code",
        "colab": {}
      },
      "source": [
        "#TODO"
      ],
      "execution_count": 0,
      "outputs": []
    },
    {
      "cell_type": "markdown",
      "metadata": {
        "id": "A_fqbGoGx7Ml",
        "colab_type": "text"
      },
      "source": [
        "### **Tarefinha pra casa**\n",
        "\n",
        "![](https://media.giphy.com/media/geONXs3YIr0Aw/giphy.gif)\n",
        "\n",
        "Por conta do tempo, não vamos conseguir fazer a análise de todas as features :(\n",
        "\n",
        "Então sugerimos que vocês façam a análise das features que ficaram faltando:\n",
        "- Fare\n",
        "- Embarked\n",
        "- SibSp\n",
        "- Parch\n",
        "\n",
        "Algumas ideias de análises que podem ser feitas:\n",
        "- Comparar a tarifa paga pelo passageiro dependendo de sua classe\n",
        "- Analisar se o tamanho da família influenciou na sobrevivência (o tamanho da família pode ser dado pela soma das features `SibSp` e `Parch`)\n",
        "- Analisar se há diferença da tarifa paga dependendo do porto de embarque\n",
        "- Verificar a correlação entre as features utilizando um heatmap"
      ]
    },
    {
      "cell_type": "markdown",
      "metadata": {
        "id": "ZgXMhU4STKuL",
        "colab_type": "text"
      },
      "source": [
        "## Feature Engineering"
      ]
    },
    {
      "cell_type": "markdown",
      "metadata": {
        "id": "rCxYn5BufcGL",
        "colab_type": "text"
      },
      "source": [
        "Alguns algoritmos exigem que algumas transformações sejam feitas para que possamos treinar o modelo...\n",
        "\n",
        "![alt text](http://giphygifs.s3.amazonaws.com/media/720g7C1jz13wI/giphy.gif)\n",
        "\n",
        "Algumas dessas transformações são:\n",
        "- Converter features categóricas em numéricas\n",
        "- Fazer normalização ou estandardização dos dados\n",
        "- Fazer o tratamento de valores faltantes\n",
        "- Etc...\n",
        "\n",
        "Como exemplo, vamos fazer a conversão de features categóricas e o tratamento de valores faltantes:"
      ]
    },
    {
      "cell_type": "markdown",
      "metadata": {
        "id": "v5-o4tVxhD4c",
        "colab_type": "text"
      },
      "source": [
        "#### **Tratamento de valores faltantes (missing values)**"
      ]
    },
    {
      "cell_type": "markdown",
      "metadata": {
        "id": "NqbxB0e_WtRu",
        "colab_type": "text"
      },
      "source": [
        "Como pudemos observar nas descrições acima, há casos de passageiros sem informação sobre suas idades. Podemos substituir esses valores faltantes pela mediana das idades:"
      ]
    },
    {
      "cell_type": "code",
      "metadata": {
        "id": "Bm9M9y8P0EOO",
        "colab_type": "code",
        "colab": {}
      },
      "source": [
        "#TODO"
      ],
      "execution_count": 0,
      "outputs": []
    },
    {
      "cell_type": "code",
      "metadata": {
        "id": "r_uBx6ZiWtoW",
        "colab_type": "code",
        "colab": {}
      },
      "source": [
        "#TODO"
      ],
      "execution_count": 0,
      "outputs": []
    },
    {
      "cell_type": "markdown",
      "metadata": {
        "id": "2PGbcitmhmPc",
        "colab_type": "text"
      },
      "source": [
        "Que outras abordagens poderíamos adotar para realizar essa substituição de valores faltantes?"
      ]
    },
    {
      "cell_type": "markdown",
      "metadata": {
        "id": "GjH6ay0jib29",
        "colab_type": "text"
      },
      "source": [
        "#### **Conversão de features categóricas**"
      ]
    },
    {
      "cell_type": "markdown",
      "metadata": {
        "id": "MtsYp4uCig--",
        "colab_type": "text"
      },
      "source": [
        "A feature que indica o gênero dos passageiros é categórica. Iremos transformá-la em uma feature numérica. Há diversas abordagens para realizar essa transformação:\n",
        "- Uma delas é utilizando o [LabelEncoder](https://scikit-learn.org/stable/modules/generated/sklearn.preprocessing.LabelEncoder.html)\n",
        "\n",
        "- E outra delas é fazendo o [One-hot encoding](https://scikit-learn.org/stable/modules/generated/sklearn.preprocessing.LabelEncoder.html)\n",
        "\n",
        "Por exemplo, se tivéssemos a seguinte feature:\n",
        "\n",
        "|renda|\n",
        "|-----|\n",
        "|alta |\n",
        "|baixa|\n",
        "|media|\n",
        "|alta |\n",
        "\n",
        "Com o LabelEncoder, teríamos o seguinte resultado:\n",
        "\n",
        "|renda|\n",
        "|-----|\n",
        "|0 |\n",
        "|1|\n",
        "|2|\n",
        "|0 |\n",
        "\n",
        "Já com o One-hot enconding teríamos o seguinte resultado:\n",
        "\n",
        "|renda_alta|renda_baixa|renda_media|\n",
        "|-----|----|----|\n",
        "|1 |0|0|\n",
        "|0|1|0|\n",
        "|0|0|1|\n",
        "|1 |0|0|\n",
        "\n",
        "No nosso caso, vamos utilizar o LabelEncoder:\n"
      ]
    },
    {
      "cell_type": "code",
      "metadata": {
        "id": "9Ld4Q9yBkKqc",
        "colab_type": "code",
        "colab": {}
      },
      "source": [
        "from sklearn.preprocessing import LabelEncoder\n",
        "\n",
        "#TODO"
      ],
      "execution_count": 0,
      "outputs": []
    },
    {
      "cell_type": "code",
      "metadata": {
        "id": "9SL3tPjVkVjt",
        "colab_type": "code",
        "colab": {}
      },
      "source": [
        "#TODO"
      ],
      "execution_count": 0,
      "outputs": []
    },
    {
      "cell_type": "markdown",
      "metadata": {
        "id": "RyY2Kg3hjuLk",
        "colab_type": "text"
      },
      "source": [
        "### **Tarefinha pra casa**\n",
        "\n",
        "![](https://media.giphy.com/media/geONXs3YIr0Aw/giphy.gif)\n",
        "\n",
        "**Que outras transformaçõs poderíamos fazer em nosso conjunto de dados?**\n",
        "- Criar categorias para a idade (criança, adulto, idoso, por exemplo)\n",
        "- Criar uma feature para indicar o tamanho da família (soma das features `SibSp` e `Parch`)\n",
        "- [Aqui](https://triangleinequality.wordpress.com/2013/09/08/basic-feature-engineering-with-the-titanic-data/) também algumas ideias de feature engineering para esse desafio\n",
        "\n",
        "Tentem fazer algumas dessas transformações ou fazer outras que vocês acreditam que façam sentido :D "
      ]
    },
    {
      "cell_type": "markdown",
      "metadata": {
        "id": "IPSGxrqIoSBD",
        "colab_type": "text"
      },
      "source": [
        "## Treinamento\n",
        "Agora que nosso conjunto de treinamento está bonitinho, vamos treinar o nosso primeiro modelo \\o/\n",
        "\n",
        "Antes de treinar o modelo, precisamos separar as features do nosso target (**tomar muito cuidado para não treinar o modelo com ele!!!**). \n",
        "\n",
        "Além disso, nessa primeira versão, vamos utilizar somente as 3 features que analisamos na aula:"
      ]
    },
    {
      "cell_type": "code",
      "metadata": {
        "id": "DAaKrINZmIoc",
        "colab_type": "code",
        "colab": {}
      },
      "source": [
        "#TODO\n",
        "\n",
        "# nossas features\n",
        "\n",
        "# nosso target"
      ],
      "execution_count": 0,
      "outputs": []
    },
    {
      "cell_type": "markdown",
      "metadata": {
        "id": "K7SqWejgA7Hf",
        "colab_type": "text"
      },
      "source": [
        "Uma outra coisa que precisamos fazer antes de treinar o modelo é separar o nosso conjunto de dados entre o **conjunto de treinamento** e o **conjunto de teste**. No nosso caso, vamos usar 75% do conjunto para treinamento e o restante para teste:"
      ]
    },
    {
      "cell_type": "code",
      "metadata": {
        "id": "SZmKZ-3kL3yd",
        "colab_type": "code",
        "colab": {}
      },
      "source": [
        "from sklearn.model_selection import train_test_split\n",
        "\n",
        "# Separando os dados em treinamento e teste\n",
        "#TODO"
      ],
      "execution_count": 0,
      "outputs": []
    },
    {
      "cell_type": "code",
      "metadata": {
        "id": "QysSeLtaBPHu",
        "colab_type": "code",
        "colab": {}
      },
      "source": [
        "#TODO"
      ],
      "execution_count": 0,
      "outputs": []
    },
    {
      "cell_type": "code",
      "metadata": {
        "id": "23s2Mhitm_6Q",
        "colab_type": "code",
        "colab": {}
      },
      "source": [
        "#TODO"
      ],
      "execution_count": 0,
      "outputs": []
    },
    {
      "cell_type": "markdown",
      "metadata": {
        "id": "B5nvF8CUCV3Z",
        "colab_type": "text"
      },
      "source": [
        "\n",
        "Esse nosso primeiro modelo será uma Árvore de decisão. O scikit-learn já contém uma implementação dela [aqui](https://scikit-learn.org/stable/modules/tree.html).\n",
        "\n"
      ]
    },
    {
      "cell_type": "code",
      "metadata": {
        "id": "io8_yKZGKqJa",
        "colab_type": "code",
        "colab": {}
      },
      "source": [
        "from sklearn.tree import DecisionTreeClassifier\n",
        "\n",
        "#TODO \n",
        "\n",
        "# Instanciando o classificador\n",
        "\n",
        "# Treinamento do modelo"
      ],
      "execution_count": 0,
      "outputs": []
    },
    {
      "cell_type": "markdown",
      "metadata": {
        "id": "fv6askV-ngY_",
        "colab_type": "text"
      },
      "source": [
        "**UHULLLLL! Temos nosso primeiro modelo de classificação \\o/**\n",
        "\n",
        "![](https://media.giphy.com/media/OU1marLMNNtnO/giphy.gif)\n",
        "\n",
        "Vamos ver a carinha dela (esse código para visualização da árvore nós encontramos [aqui](https://www.kaggle.com/jlawman/complete-beginner-your-first-titanic-submission))? :)"
      ]
    },
    {
      "cell_type": "code",
      "metadata": {
        "id": "wXLwYat0F9qA",
        "colab_type": "code",
        "colab": {}
      },
      "source": [
        "# arquivo de texto que armazena a estrutura da nossa árvore de decisão\n",
        "from sklearn.tree import export_graphviz\n",
        "export_graphviz(model,out_file='titanic_tree.dot',feature_names=['Age', 'Sex', 'Pclass'],rounded=True,filled=True,class_names=['Sobreviveu','Não sobreviveu'])\n"
      ],
      "execution_count": 0,
      "outputs": []
    },
    {
      "cell_type": "code",
      "metadata": {
        "id": "MH2oh9cJHxOh",
        "colab_type": "code",
        "colab": {}
      },
      "source": [
        "!dot -Tpng titanic_tree.dot -o titanic_tree.png"
      ],
      "execution_count": 0,
      "outputs": []
    },
    {
      "cell_type": "markdown",
      "metadata": {
        "id": "3m-UB7ntM1ey",
        "colab_type": "text"
      },
      "source": [
        "Após converter o arquivo de texto, podemos visualizar a árvore abaixo. As cores ajudam a identificar a classificação dada pelo modelo:\n",
        "\n",
        "- Nós ou folhas em azul significam que a nossa árvore de decisão acredita que o passageiro **NÃO SOBREVIVEU**\n",
        "- Já nos nós e folhas em laranja, a árvore acha que o passageiro **SOBREVIVEU**"
      ]
    },
    {
      "cell_type": "code",
      "metadata": {
        "id": "2XqQGAlcHCja",
        "colab_type": "code",
        "colab": {}
      },
      "source": [
        "from IPython.core.display import Image, display\n",
        "display(Image('titanic_tree.png', width=1900, unconfined=True))"
      ],
      "execution_count": 0,
      "outputs": []
    },
    {
      "cell_type": "markdown",
      "metadata": {
        "id": "X0cyg7DILLQv",
        "colab_type": "text"
      },
      "source": [
        "**O que vocês acharam dessa árvore?**"
      ]
    },
    {
      "cell_type": "markdown",
      "metadata": {
        "id": "aj5_1pz16uh2",
        "colab_type": "text"
      },
      "source": [
        "## Avaliando nosso modelo"
      ]
    },
    {
      "cell_type": "markdown",
      "metadata": {
        "id": "0Mjmy5R47DCm",
        "colab_type": "text"
      },
      "source": [
        "Agora precisamos avaliar se o modelo está bom ou não!\n",
        "\n",
        "Para isso, precisamos utilizá-lo para realizar as predições para nosso conjunto de teste:"
      ]
    },
    {
      "cell_type": "code",
      "metadata": {
        "id": "7T5kx7cX9wHE",
        "colab_type": "code",
        "colab": {}
      },
      "source": [
        "#TODO"
      ],
      "execution_count": 0,
      "outputs": []
    },
    {
      "cell_type": "markdown",
      "metadata": {
        "id": "DebndYd19yiy",
        "colab_type": "text"
      },
      "source": [
        "Como a métrica de avaliação do Kaggle é a acurácia, vamos utilizá-la primeiro:"
      ]
    },
    {
      "cell_type": "code",
      "metadata": {
        "id": "7dXxL-P_7Yys",
        "colab_type": "code",
        "colab": {}
      },
      "source": [
        "from sklearn.metrics import accuracy_score"
      ],
      "execution_count": 0,
      "outputs": []
    },
    {
      "cell_type": "code",
      "metadata": {
        "id": "uc2S3Wi19jA4",
        "colab_type": "code",
        "colab": {}
      },
      "source": [
        "#TODO"
      ],
      "execution_count": 0,
      "outputs": []
    },
    {
      "cell_type": "markdown",
      "metadata": {
        "id": "-0-CA-jMC4ZF",
        "colab_type": "text"
      },
      "source": [
        "Outra avaliação que poderíamos fazer é utilizando uma matriz de confusão:"
      ]
    },
    {
      "cell_type": "code",
      "metadata": {
        "id": "rHFTQm3Gzt34",
        "colab_type": "code",
        "colab": {}
      },
      "source": [
        "from sklearn.metrics import confusion_matrix\n",
        "import itertools"
      ],
      "execution_count": 0,
      "outputs": []
    },
    {
      "cell_type": "code",
      "metadata": {
        "id": "yovWpGiDzbag",
        "colab_type": "code",
        "colab": {}
      },
      "source": [
        "# plota a matriz de confusão. Código retirado da documentação do próprio Sklearn\n",
        "def plot_confusion_matrix(cm, classes,\n",
        "                          normalize=False,\n",
        "                          title='Matriz de confusão',\n",
        "                          cmap=plt.cm.Blues):\n",
        "\n",
        "    if normalize:\n",
        "        cm = cm.astype('float') / cm.sum(axis=1)[:, np.newaxis]\n",
        "    \n",
        "    #plt.ylim(0.5, 0.5)\n",
        "    plt.imshow(cm, interpolation='nearest', cmap=cmap)\n",
        "    plt.title(title)\n",
        "    plt.colorbar()\n",
        "    tick_marks = np.arange(len(classes))\n",
        "    plt.xticks(tick_marks, classes, rotation=45)\n",
        "    plt.yticks(tick_marks, classes)\n",
        "    plt.ylim(1.5, -0.5) \n",
        "\n",
        "    fmt = '.2f' if normalize else 'd'\n",
        "    thresh = cm.max() / 2.\n",
        "    for i, j in itertools.product(range(cm.shape[0]), range(cm.shape[1])):\n",
        "        plt.text(j, i, format(cm[i, j], fmt),\n",
        "                 horizontalalignment=\"center\",\n",
        "                 color=\"white\" if cm[i, j] > thresh else \"black\")\n",
        "\n",
        "    plt.ylabel('Classe real')\n",
        "    plt.xlabel('Classe prevista')\n",
        "    plt.tight_layout()"
      ],
      "execution_count": 0,
      "outputs": []
    },
    {
      "cell_type": "code",
      "metadata": {
        "id": "_6sxzSLg7A5n",
        "colab_type": "code",
        "colab": {}
      },
      "source": [
        "#TODO"
      ],
      "execution_count": 0,
      "outputs": []
    },
    {
      "cell_type": "markdown",
      "metadata": {
        "id": "rwXkkoZAng2_",
        "colab_type": "text"
      },
      "source": [
        "## Predição\n"
      ]
    },
    {
      "cell_type": "markdown",
      "metadata": {
        "id": "Vc44HmLH71eM",
        "colab_type": "text"
      },
      "source": [
        "Agora que nosso modelo foi avaliado, vamos fazer as predições para o conjunto sem o target e fazer a [submissão para o Kaggle](https://www.kaggle.com/c/titanic/submit)? :D\n",
        "\n",
        "![alt text](https://media.giphy.com/media/l4JySAWfMaY7w88sU/giphy.gif)\n",
        "\n",
        "Antes de fazer as predições, precisamos fazer as mesmas transformações que fizemos no conjunto de treinamento durante a etapa de feature engineering:"
      ]
    },
    {
      "cell_type": "code",
      "metadata": {
        "id": "RVQ_ICmgozjo",
        "colab_type": "code",
        "colab": {}
      },
      "source": [
        "# substituímos os valores faltantes pela mediana da idade do conjunto de treinamento\n",
        "#TODO"
      ],
      "execution_count": 0,
      "outputs": []
    },
    {
      "cell_type": "code",
      "metadata": {
        "id": "84S7WJcgox8U",
        "colab_type": "code",
        "colab": {}
      },
      "source": [
        "# utilizamos o encoder que foi criado com base no conjunto de treinamento\n",
        "#TODO"
      ],
      "execution_count": 0,
      "outputs": []
    },
    {
      "cell_type": "code",
      "metadata": {
        "id": "07lRmNJJoDif",
        "colab_type": "code",
        "colab": {}
      },
      "source": [
        "# realiza a predição para o conjunto de teste\n",
        "#TODO"
      ],
      "execution_count": 0,
      "outputs": []
    },
    {
      "cell_type": "markdown",
      "metadata": {
        "id": "Cy9y1iDfo8fO",
        "colab_type": "text"
      },
      "source": [
        "Para a submissão no Kaggle, além da predição, precisamos fornecer também o ID do passageiro:"
      ]
    },
    {
      "cell_type": "code",
      "metadata": {
        "id": "2a8_n9v18dD6",
        "colab_type": "code",
        "colab": {}
      },
      "source": [
        "# transformar o array em um DataFrame para concatenarmos como ID\n",
        "#TODO"
      ],
      "execution_count": 0,
      "outputs": []
    },
    {
      "cell_type": "code",
      "metadata": {
        "id": "WeuQAzXopSMD",
        "colab_type": "code",
        "colab": {}
      },
      "source": [
        "#TODO"
      ],
      "execution_count": 0,
      "outputs": []
    },
    {
      "cell_type": "code",
      "metadata": {
        "id": "YI1I6AujpcW_",
        "colab_type": "code",
        "colab": {}
      },
      "source": [
        "#TODO"
      ],
      "execution_count": 0,
      "outputs": []
    },
    {
      "cell_type": "markdown",
      "metadata": {
        "id": "2ptwDdcDIYIR",
        "colab_type": "text"
      },
      "source": [
        "Se observarmos o resultado da acurácia no conjunto de treinamento, tivemos uma certa diminuição na acurácia do conjunto de teste. Por que isso ocorre?\n",
        "\n",
        " ![](https://hackernoon.com/hn-images/1*SBUK2QEfCP-zvJmKm14wGQ.png)\n",
        "\n",
        "  \n",
        "No nosso caso, o modelo sofreu **overfitting**. Isso também explica a alta complexidade da árvore. No caso da nossa árvore, é necessário podá-la para que ela possa **generalizar** o problema."
      ]
    },
    {
      "cell_type": "markdown",
      "metadata": {
        "id": "Emhu6vuJFjSK",
        "colab_type": "text"
      },
      "source": [
        "## Próximos passos\n",
        "\n",
        "Ainda podemos melhorar **MUITO** o nosso modelo :) \n",
        "\n",
        "O que podemos fazer?\n",
        "\n",
        "- Como pudemos ver, nossa árvore está sofreu overfitting. Podemos mudar diversos parâmetros da nossa árvore para evitar que isso aconteça. Alguns parâmetros que podemos alterar:\n",
        "  - **max_depth** (profundidade máxima da árvore) - podemos determinar um valor para que ela não se aprofunde demais\n",
        "  - **min_samples_split** (número mínimo de exemplos para dividir um nó interno) - podemos aumentar o número (o mínimo *default* é 2) para diminuir o número de divisões\n",
        "  - **min_samples_leaf** (número mínimo de exemplos para que um nó seja uma folha) - podemos aumentar o número (o mínimo *default* é 1) para diminuir o número de folhas\n",
        "- Podemos realizar outras transformações na etapa de feature engineering ou criar novas features\n",
        "- Também podemos treinar o modelo adicionando as outras features que não vimos nessa aula. Talvez elas possam ajudar na predição ;)\n",
        "- Além disso, é interessante ver as outras métricas de avaliação para entendermos melhor o nosso modelo e como podemos melhorá-lo!\n",
        "\n",
        "### **Tarefinha pra casa**\n",
        "\n",
        "![](https://media.giphy.com/media/geONXs3YIr0Aw/giphy.gif)\n",
        "\n",
        "\n",
        "Tentem fazer algumas (ou todas) as sugestões feitas nesse notebook e fazer a submissão das predições no Kaggle novamente!  \n",
        "\n",
        "Na próxima aula vocês nos contam se a acurácia do modelo melhorou :D "
      ]
    },
    {
      "cell_type": "markdown",
      "metadata": {
        "id": "JJPMfwGM6Qdc",
        "colab_type": "text"
      },
      "source": [
        "![](https://media.giphy.com/media/3o7budMRwZvNGJ3pyE/giphy.gif)"
      ]
    }
  ]
}