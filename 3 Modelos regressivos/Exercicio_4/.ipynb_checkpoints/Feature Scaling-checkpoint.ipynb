{
 "cells": [
  {
   "cell_type": "markdown",
   "metadata": {},
   "source": [
    "# Feature Scaling\n",
    "\n",
    "Agora vamos tentar praticar um pouco sobre como normalizar nossos dados.\n",
    "User a classe StanderScaler do Sklearn para estandatizar antes de uma regressão linear. \n",
    "\n",
    "\n",
    "Para concluir, siga as etapas abaixo:\n",
    "\n",
    "1. Carregue os dados\n",
    "\n",
    "    Os dados estão no arquivo chamado 'data.csv'. Observe que não há linha de cabeçalho neste arquivo.\n",
    "    Divida os dados para que os seis features preditoras (primeiras seis colunas) sejam armazenados em X e o resultado (última coluna) seja armazenado em y.\n",
    "\n",
    "\n",
    "2. Execute o dimensionamento de recursos nos dados via padronização\n",
    "\n",
    "    Crie uma instância do StandardScaler do sklearn e atribua a variavel scaler.\n",
    "    Calcule os parâmetros de dimensionamento usando o método .fit_transform () na matriz de recursos do preditor, que também retorna as variáveis do preditor em seus valores padronizados. Armazene esses valores padronizados em X_scaled.\n",
    "\n",
    "\n",
    "3. Ajustar dados usando regressão linear \n",
    "\n",
    "    Crie uma instância da classe Lasso do sklearn e atribua-a à variável Lonear_Regression(). Você não precisa definir nenhum valor de parâmetro: use os valores padrão para o questionário.\n",
    "    Use o método .fit () do objeto Regresao para ajustar o modelo de regressão aos dados. Certifique-se de aplicar o ajuste aos dados padronizados da etapa anterior (X_scaled), não aos dados originais.\n",
    "\n",
    "\n",
    "4. Inspecione os coeficientes do modelo de regressão\n",
    "\n",
    "    Obtenha os coeficientes do modelo de regressão de ajuste usando o atributo .coef_ do objeto Rregressao. Armazene isso na variável reg_coef: os coeficientes serão impressos."
   ]
  },
  {
   "cell_type": "code",
   "execution_count": null,
   "metadata": {},
   "outputs": [],
   "source": [
    "#Importe as bibliotecas que irá usar"
   ]
  },
  {
   "cell_type": "code",
   "execution_count": null,
   "metadata": {},
   "outputs": [],
   "source": [
    "# TODO: Crie a vaíavel do preditor e de saída. Carregue os dados\n",
    "train_data = None\n",
    "X = None\n",
    "y = None\n"
   ]
  },
  {
   "cell_type": "code",
   "execution_count": null,
   "metadata": {},
   "outputs": [],
   "source": [
    "#Crie o objeto de normalização\n",
    "scaler = None"
   ]
  },
  {
   "cell_type": "code",
   "execution_count": null,
   "metadata": {},
   "outputs": [],
   "source": [
    "#Crie e de fit do objeto de normalização\n",
    "x_scaled = None"
   ]
  },
  {
   "cell_type": "code",
   "execution_count": null,
   "metadata": {},
   "outputs": [],
   "source": [
    "#Crie um modelo de regressão linear\n",
    "linear_reg = None"
   ]
  },
  {
   "cell_type": "code",
   "execution_count": null,
   "metadata": {},
   "outputs": [],
   "source": [
    "#dê um fit no seu modelo"
   ]
  },
  {
   "cell_type": "code",
   "execution_count": null,
   "metadata": {},
   "outputs": [],
   "source": [
    "#Pegue e imprima os coeficientes do seu modelo de regressão.\n",
    "reg_coef = None\n",
    "print(reg_coef)"
   ]
  }
 ],
 "metadata": {
  "kernelspec": {
   "display_name": "Python 3",
   "language": "python",
   "name": "python3"
  },
  "language_info": {
   "codemirror_mode": {
    "name": "ipython",
    "version": 3
   },
   "file_extension": ".py",
   "mimetype": "text/x-python",
   "name": "python",
   "nbconvert_exporter": "python",
   "pygments_lexer": "ipython3",
   "version": "3.7.3"
  }
 },
 "nbformat": 4,
 "nbformat_minor": 2
}
