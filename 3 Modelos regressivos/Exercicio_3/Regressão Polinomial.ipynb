{
 "cells": [
  {
   "cell_type": "markdown",
   "metadata": {},
   "source": [
    "# Regressão Polinomial\n",
    "\n",
    "Agora vamos tentar praticar um pouco sobre como implementar regressão polinomial. No arquivo data.csv você poderá encontrar dados gerados para um feature preditora ('Var_X') e a feature de saída ('Var_Y'), seguindo um padrão não-linear.\n",
    "\n",
    "User a classe PolynomialFeatures do sklearn's para estender a coluna de feature de previsão em várias colunas com recursos polinomiais. Brinque com diferentes graus de polinômio e use o botão Test Run para ver o que melhor se encaixa.\n",
    "\n",
    "\n",
    "Para concluir, siga as etapas abaixo:\n",
    "\n",
    "1. Carregue os dados\n",
    "\n",
    "    Os dados estão no arquivo chamado 'data.csv'. Observe que esses dados têm uma linha de cabeçalho.\n",
    "    Certifique-se de dividir os dados na feature de previsão em X e na feature de resultado em y.\n",
    "    Para X, verifique se ele está em uma matriz bidimensional de 20 linhas por 1 coluna. Pode ser necessário usar a função de remodelação do NumPy para fazer isso.\n",
    "    \n",
    "\n",
    "2. Crie recursos polinomiais\n",
    "\n",
    "    Crie uma instância da classe PolynomialFeatures do sklearn e atribua-a à variável poly_feat. Preste atenção em como definir o grau de recursos, pois será assim que o exercício será avaliado.\n",
    "    Crie os recursos polinomiais usando o método .fit_transform () do objeto PolynomialFeatures. O lado \"apto\" do método considera quantos recursos são necessários na saída e o lado \"transformação\" aplica essas considerações aos dados fornecidos ao método como argumento. Atribua a nova matriz de recurso à variável X_poly.\n",
    "\n",
    "3. Construa um modelo de regressão polinomial\n",
    "\n",
    "    Crie um modelo de regressão polinomial combinando a classe LinearRegression do sklearn com os recursos polinomiais. Atribua o modelo de ajuste ao poly_model."
   ]
  },
  {
   "cell_type": "code",
   "execution_count": null,
   "metadata": {},
   "outputs": [],
   "source": [
    "#Importe as bibliotecas que irá usar"
   ]
  },
  {
   "cell_type": "code",
   "execution_count": null,
   "metadata": {},
   "outputs": [],
   "source": [
    "# TODO: Crie a vaíavel do preditor e de saída. Carregue os dados\n",
    "train_data = None\n",
    "X = None\n",
    "y = None\n"
   ]
  },
  {
   "cell_type": "code",
   "execution_count": null,
   "metadata": {},
   "outputs": [],
   "source": [
    "#Crie as features polinomiais e depois faça um fit e transform na feature preditora\n",
    "poly_feat = None\n",
    "X_poly = None"
   ]
  },
  {
   "cell_type": "code",
   "execution_count": null,
   "metadata": {},
   "outputs": [],
   "source": [
    "#Crie e de fit no modelo de regressão polinomial\n",
    "poly_model = None"
   ]
  }
 ],
 "metadata": {
  "kernelspec": {
   "display_name": "Python 3",
   "language": "python",
   "name": "python3"
  },
  "language_info": {
   "codemirror_mode": {
    "name": "ipython",
    "version": 3
   },
   "file_extension": ".py",
   "mimetype": "text/x-python",
   "name": "python",
   "nbconvert_exporter": "python",
   "pygments_lexer": "ipython3",
   "version": "3.7.3"
  }
 },
 "nbformat": 4,
 "nbformat_minor": 2
}
