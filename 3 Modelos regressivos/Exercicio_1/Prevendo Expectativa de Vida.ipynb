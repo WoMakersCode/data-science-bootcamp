{
 "cells": [
  {
   "cell_type": "markdown",
   "metadata": {},
   "source": [
    "# Exercício \n",
    "\n",
    "Vamos tentar utilizar regressão linear para prever a expectativa de vida usando o Índice de [Massa Corporal](https://pt.wikipedia.org/wiki/%C3%8Dndice_de_massa_corporal) .\n",
    "\n",
    "Antes de começarmos vamos ver as ferramentas que precisaremos para construir esse modelo!\n",
    "\n",
    "Para seu modelo de regressão linear, usaremos a biblioteca do python scikit-learn's, mais especificamente a classe LinearRegression. Essa classe nos dá uma função .fit() para ajustarmos o modelo aos seus dados."
   ]
  },
  {
   "cell_type": "code",
   "execution_count": 4,
   "metadata": {},
   "outputs": [
    {
     "data": {
      "text/plain": [
       "LinearRegression(copy_X=True, fit_intercept=True, n_jobs=None,\n",
       "         normalize=False)"
      ]
     },
     "execution_count": 4,
     "metadata": {},
     "output_type": "execute_result"
    }
   ],
   "source": [
    "#Primeiramente temos que importar a biblioteca\n",
    "\n",
    "from sklearn.linear_model import LinearRegression\n",
    "\n",
    "#gerando valores aleatórios\n",
    "x_values = [[10],[20]]\n",
    "y_values = [[50],[60]]\n",
    "\n",
    "#instaciamos a classe\n",
    "model = LinearRegression()\n",
    "\n",
    "#E damos fit ao modelo utilizando os valores do eixo x e y\n",
    "model.fit(x_values, y_values)"
   ]
  },
  {
   "cell_type": "markdown",
   "metadata": {},
   "source": [
    "No exemplo acima, a variável \"model\" é o modelo de regressão linear que está sendo ajustado aos seus dados x_value e y_value.\n",
    "\n",
    "Dar .fit() no seu modelo, significa encontrar a melhor linha que se ajusta ao modelo de treino. Vamos ver como fazer predições usando a função .predict()\n",
    "\n"
   ]
  },
  {
   "cell_type": "code",
   "execution_count": 5,
   "metadata": {},
   "outputs": [
    {
     "name": "stdout",
     "output_type": "stream",
     "text": [
      "[[167.]\n",
      " [288.]]\n"
     ]
    }
   ],
   "source": [
    "print(model.predict([ [127], [248] ]))\n"
   ]
  },
  {
   "cell_type": "markdown",
   "metadata": {},
   "source": [
    "O modelo retornou uma matriz de previsões, uma previsão para cada matriz de entrada. A primeira entrada, [127], obteve uma previsão de 167.0. A segunda entrada, [248], obteve uma previsão de 288.0. \n",
    "\n",
    "A razão para prever em uma matriz como [127] e não apenas 127, é porque você pode ter um modelo que faz uma previsão usando vários recursos. Iremos passar a usar várias variáveis em regressão linear posteriormente. Por enquanto, vamos manter um único valor."
   ]
  },
  {
   "cell_type": "markdown",
   "metadata": {},
   "source": [
    "# Exércicio\n",
    "\n",
    "Neste exercício, você trabalhará com dados sobre a expectativa média de vida ao nascer e o IMC médio para mulheres em todo o mundo. Os dados são do Gapminder.\n",
    "\n",
    "O arquivo de dados pode ser encontrado na pasta dados com o nome \"bmi_and_life_expectancy.csv\". \n",
    "\n",
    "O arquivo possui três colunas, contendo os seguintes dados:\n",
    "\n",
    "País - o país em que a pessoa nasceu.\n",
    "Expectativa de vida - A expectativa média de vida no nascimento de uma pessoa naquele país.\n",
    "IMC - O IMC médio dos homens naquele país.\n",
    "\n",
    "\n",
    "Para esse exércicio siga as seguintes etapas:\n",
    "\n",
    "1. Carregue os dados\n",
    "\n",
    "    Os dados estão no arquivo chamado \"bmi_and_life_expectancy.csv\".\n",
    "    Use o pandas read_csv para carregar os dados em um dataframe (não esqueça de importar os pandas!)\n",
    "    Atribua o quadro de dados à variável bmi_life_data.\n",
    "\n",
    "\n",
    "2. Construa um modelo de regressão linear\n",
    "\n",
    "    Crie um modelo de regressão usando o LinearRegression do scikit-learn e atribua-o a bmi_life_model.\n",
    "    Ajuste o modelo aos dados.\n",
    "\n",
    "3. Preveja usando o modelo\n",
    "\n",
    "    Preveja usando um IMC de 21.07931 e atribua-o à variável laos_life_exp."
   ]
  },
  {
   "cell_type": "code",
   "execution_count": null,
   "metadata": {},
   "outputs": [],
   "source": [
    "#Importe as bibliotecas que você irá usar"
   ]
  },
  {
   "cell_type": "code",
   "execution_count": null,
   "metadata": {},
   "outputs": [],
   "source": [
    "#Carregue os dados\n",
    "\n",
    "\n",
    "\n",
    "#Insira o data frame nessa váriavel \n",
    "bmi_life_data = None "
   ]
  },
  {
   "cell_type": "code",
   "execution_count": null,
   "metadata": {},
   "outputs": [],
   "source": [
    "#Execute o .fit do modelo e insira na variavel bmi_life_model\n",
    "bmi_life_model = None"
   ]
  },
  {
   "cell_type": "code",
   "execution_count": null,
   "metadata": {},
   "outputs": [],
   "source": [
    "#Faça predições usando o modelo para uma expectativa de vida de 21,07931\n",
    "laos_life_exp = None\n"
   ]
  }
 ],
 "metadata": {
  "kernelspec": {
   "display_name": "Python 3",
   "language": "python",
   "name": "python3"
  },
  "language_info": {
   "codemirror_mode": {
    "name": "ipython",
    "version": 3
   },
   "file_extension": ".py",
   "mimetype": "text/x-python",
   "name": "python",
   "nbconvert_exporter": "python",
   "pygments_lexer": "ipython3",
   "version": "3.7.3"
  }
 },
 "nbformat": 4,
 "nbformat_minor": 2
}
